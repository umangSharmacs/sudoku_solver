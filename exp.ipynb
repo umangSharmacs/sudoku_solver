{
 "cells": [
  {
   "cell_type": "code",
   "execution_count": 1,
   "metadata": {},
   "outputs": [],
   "source": [
    "import math\n",
    "from collections import defaultdict\n",
    "import numpy as np"
   ]
  },
  {
   "cell_type": "markdown",
   "metadata": {},
   "source": [
    "# Sudoku Solver"
   ]
  },
  {
   "cell_type": "code",
   "execution_count": 2,
   "metadata": {},
   "outputs": [],
   "source": [
    "# Create a 9 by 9 grid\n",
    "\n",
    "grid = [[0]*9]*9"
   ]
  },
  {
   "cell_type": "code",
   "execution_count": 3,
   "metadata": {},
   "outputs": [],
   "source": [
    "# Helper function to print the sudoku grid\n",
    "\n",
    "def print_grid(grid: list):\n",
    "    for row in grid:\n",
    "        print(row)\n"
   ]
  },
  {
   "cell_type": "code",
   "execution_count": 4,
   "metadata": {},
   "outputs": [],
   "source": [
    "# Create the grid from set of strings \n",
    "\n",
    "grid_str = [\"000260701\",\"680070090\",\"190004500\",\"820100040\",\"004602900\",\"050003028\",\"009300074\",\"040050036\",\"703018000\"]\n",
    "\n",
    "grid = [list(map(int,a)) for a in grid_str]\n"
   ]
  },
  {
   "cell_type": "code",
   "execution_count": 5,
   "metadata": {},
   "outputs": [],
   "source": [
    "# Creating the grid datastructures\n",
    "grid_str = [\"000260701\",\"680070090\",\"190004500\",\"820100040\",\"004602900\",\"050003028\",\"009300074\",\"040050036\",\"703018000\"]\n",
    "\n",
    "grid = [list(map(int,a)) for a in grid_str]\n",
    "grid = [list(map(int,a)) for a in grid_str]\n",
    "grid = np.array(grid)\n",
    "grid_dict = defaultdict(list)"
   ]
  },
  {
   "cell_type": "code",
   "execution_count": 6,
   "metadata": {},
   "outputs": [
    {
     "data": {
      "text/plain": [
       "array([[0, 0, 0, 2, 6, 0, 7, 0, 1],\n",
       "       [6, 8, 0, 0, 7, 0, 0, 9, 0],\n",
       "       [1, 9, 0, 0, 0, 4, 5, 0, 0],\n",
       "       [8, 2, 0, 1, 0, 0, 0, 4, 0],\n",
       "       [0, 0, 4, 6, 0, 2, 9, 0, 0],\n",
       "       [0, 5, 0, 0, 0, 3, 0, 2, 8],\n",
       "       [0, 0, 9, 3, 0, 0, 0, 7, 4],\n",
       "       [0, 4, 0, 0, 5, 0, 0, 3, 6],\n",
       "       [7, 0, 3, 0, 1, 8, 0, 0, 0]])"
      ]
     },
     "execution_count": 6,
     "metadata": {},
     "output_type": "execute_result"
    }
   ],
   "source": [
    "grid"
   ]
  },
  {
   "cell_type": "markdown",
   "metadata": {},
   "source": [
    "# Helper Functions "
   ]
  },
  {
   "cell_type": "code",
   "execution_count": 7,
   "metadata": {},
   "outputs": [],
   "source": [
    "def find_superpositions(tuple_indices):\n",
    "    i_row = tuple_indices[0]\n",
    "    i_col = tuple_indices[1]\n",
    "    \n",
    "    superpositions = set(range(1,10))\n",
    "\n",
    "    row_set = set(grid[i_row])\n",
    "    superpositions = superpositions.difference(row_set)\n",
    "    row_col = set(grid[:,i_col])\n",
    "    superpositions = superpositions.difference(row_col)\n",
    "\n",
    "    start_index_row = ((i_row//3)*3)\n",
    "    start_index_col = ((i_col//3)*3)\n",
    "\n",
    "    block_set = np.unique(grid[start_index_row:start_index_row+3,start_index_col:start_index_col+3])\n",
    "    superpositions = superpositions.difference(block_set)\n",
    "\n",
    "    return superpositions"
   ]
  },
  {
   "cell_type": "code",
   "execution_count": 8,
   "metadata": {},
   "outputs": [],
   "source": [
    "def collapse_wave_function(grid_dict):\n",
    "    for indices in grid_dict: \n",
    "        if type(grid_dict[indices])==set and len(grid_dict[indices])==1:\n",
    "            grid_dict[indices] = list(grid_dict[indices])[0]\n",
    "    return grid_dict\n"
   ]
  },
  {
   "cell_type": "code",
   "execution_count": 12,
   "metadata": {},
   "outputs": [],
   "source": []
  },
  {
   "cell_type": "code",
   "execution_count": 19,
   "metadata": {},
   "outputs": [],
   "source": [
    "# Create grid from grid dict\n",
    "def create_grid(grid,grid_dict):\n",
    "    for (i_row,i_col),value in grid_dict.items():\n",
    "        if isinstance(value,int) or isinstance(value,float):\n",
    "            grid[i_row,i_col]=value\n",
    "    \n",
    "    return grid\n"
   ]
  },
  {
   "cell_type": "code",
   "execution_count": 22,
   "metadata": {},
   "outputs": [
    {
     "data": {
      "text/plain": [
       "array([[4, 3, 5, 2, 6, 9, 7, 8, 1],\n",
       "       [6, 8, 2, 5, 7, 1, 4, 9, 3],\n",
       "       [1, 9, 7, 8, 3, 4, 5, 6, 2],\n",
       "       [8, 2, 6, 1, 9, 5, 3, 4, 7],\n",
       "       [3, 7, 4, 6, 8, 2, 9, 1, 5],\n",
       "       [9, 5, 1, 7, 4, 3, 6, 2, 8],\n",
       "       [5, 1, 9, 3, 2, 6, 8, 7, 4],\n",
       "       [2, 4, 8, 9, 5, 7, 1, 3, 6],\n",
       "       [7, 6, 3, 4, 1, 8, 2, 5, 9]])"
      ]
     },
     "execution_count": 22,
     "metadata": {},
     "output_type": "execute_result"
    }
   ],
   "source": [
    "grid"
   ]
  },
  {
   "cell_type": "code",
   "execution_count": 27,
   "metadata": {},
   "outputs": [],
   "source": [
    "grid_str = [\"000260701\",\"680070090\",\"190004500\",\"820100040\",\"004602900\",\"050003028\",\"009300074\",\"040050036\",\"703018000\"]\n",
    "\n",
    "grid = [list(map(int,a)) for a in grid_str]\n",
    "grid = [list(map(int,a)) for a in grid_str]\n",
    "grid = np.array(grid)\n",
    "grid_dict = defaultdict(list)"
   ]
  },
  {
   "cell_type": "code",
   "execution_count": 28,
   "metadata": {},
   "outputs": [
    {
     "data": {
      "text/plain": [
       "array([[0, 0, 0, 2, 6, 0, 7, 0, 1],\n",
       "       [6, 8, 0, 0, 7, 0, 0, 9, 0],\n",
       "       [1, 9, 0, 0, 0, 4, 5, 0, 0],\n",
       "       [8, 2, 0, 1, 0, 0, 0, 4, 0],\n",
       "       [0, 0, 4, 6, 0, 2, 9, 0, 0],\n",
       "       [0, 5, 0, 0, 0, 3, 0, 2, 8],\n",
       "       [0, 0, 9, 3, 0, 0, 0, 7, 4],\n",
       "       [0, 4, 0, 0, 5, 0, 0, 3, 6],\n",
       "       [7, 0, 3, 0, 1, 8, 0, 0, 0]])"
      ]
     },
     "execution_count": 28,
     "metadata": {},
     "output_type": "execute_result"
    }
   ],
   "source": [
    "grid"
   ]
  },
  {
   "cell_type": "code",
   "execution_count": 29,
   "metadata": {},
   "outputs": [
    {
     "name": "stdout",
     "output_type": "stream",
     "text": [
      "Iteration-------------0\n",
      "[[0 3 5 2 6 0 7 8 1]\n",
      " [6 8 0 5 7 0 0 9 0]\n",
      " [1 9 0 8 0 4 5 0 0]\n",
      " [8 2 0 1 9 0 0 4 0]\n",
      " [3 0 4 6 8 2 9 0 0]\n",
      " [9 5 0 0 0 3 0 2 8]\n",
      " [0 0 9 3 2 6 0 7 4]\n",
      " [2 4 0 0 5 0 0 3 6]\n",
      " [7 6 3 0 1 8 2 5 0]]\n",
      "Iteration-------------1\n",
      "[[4 3 5 2 6 9 7 8 1]\n",
      " [6 8 2 5 7 1 0 9 0]\n",
      " [1 9 0 8 3 4 5 6 0]\n",
      " [8 2 0 1 9 0 0 4 0]\n",
      " [3 0 4 6 8 2 9 1 0]\n",
      " [9 5 0 0 4 3 0 2 8]\n",
      " [5 1 9 3 2 6 0 7 4]\n",
      " [2 4 0 0 5 0 0 3 6]\n",
      " [7 6 3 0 1 8 2 5 9]]\n",
      "Iteration-------------2\n",
      "[[4 3 5 2 6 9 7 8 1]\n",
      " [6 8 2 5 7 1 0 9 3]\n",
      " [1 9 7 8 3 4 5 6 2]\n",
      " [8 2 0 1 9 0 0 4 0]\n",
      " [3 7 4 6 8 2 9 1 0]\n",
      " [9 5 0 7 4 3 6 2 8]\n",
      " [5 1 9 3 2 6 8 7 4]\n",
      " [2 4 8 0 5 7 0 3 6]\n",
      " [7 6 3 4 1 8 2 5 9]]\n",
      "Iteration-------------3\n",
      "[[4 3 5 2 6 9 7 8 1]\n",
      " [6 8 2 5 7 1 4 9 3]\n",
      " [1 9 7 8 3 4 5 6 2]\n",
      " [8 2 6 1 9 5 3 4 0]\n",
      " [3 7 4 6 8 2 9 1 5]\n",
      " [9 5 1 7 4 3 6 2 8]\n",
      " [5 1 9 3 2 6 8 7 4]\n",
      " [2 4 8 9 5 7 1 3 6]\n",
      " [7 6 3 4 1 8 2 5 9]]\n",
      "Iteration-------------4\n",
      "[[4 3 5 2 6 9 7 8 1]\n",
      " [6 8 2 5 7 1 4 9 3]\n",
      " [1 9 7 8 3 4 5 6 2]\n",
      " [8 2 6 1 9 5 3 4 7]\n",
      " [3 7 4 6 8 2 9 1 5]\n",
      " [9 5 1 7 4 3 6 2 8]\n",
      " [5 1 9 3 2 6 8 7 4]\n",
      " [2 4 8 9 5 7 1 3 6]\n",
      " [7 6 3 4 1 8 2 5 9]]\n"
     ]
    }
   ],
   "source": [
    "index__=0\n",
    "while index__ < 5:\n",
    "    print(f\"Iteration-------------{index__}\")        \n",
    "    for i_row,row in enumerate(grid):\n",
    "        for i_col,element in enumerate(row):\n",
    "            if element!=0:\n",
    "                grid_dict[(i_row,i_col)] = element\n",
    "            else:\n",
    "                grid_dict[(i_row,i_col)] = find_superpositions((i_row,i_col))\n",
    "\n",
    "    grid_dict = collapse_wave_function(grid_dict)\n",
    "    grid = create_grid(grid, grid_dict)\n",
    "    print(grid)\n",
    "    index__+=1"
   ]
  }
 ],
 "metadata": {
  "kernelspec": {
   "display_name": "Python 3",
   "language": "python",
   "name": "python3"
  },
  "language_info": {
   "codemirror_mode": {
    "name": "ipython",
    "version": 3
   },
   "file_extension": ".py",
   "mimetype": "text/x-python",
   "name": "python",
   "nbconvert_exporter": "python",
   "pygments_lexer": "ipython3",
   "version": "3.10.4"
  }
 },
 "nbformat": 4,
 "nbformat_minor": 2
}
